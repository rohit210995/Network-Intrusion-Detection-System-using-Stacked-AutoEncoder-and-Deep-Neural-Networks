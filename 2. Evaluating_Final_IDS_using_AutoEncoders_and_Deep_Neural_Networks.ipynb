{
  "nbformat": 4,
  "nbformat_minor": 0,
  "metadata": {
    "colab": {
      "name": "Evaluating Final IDS using AutoEncoders and Deep Neural Networks.ipynb",
      "provenance": [],
      "collapsed_sections": [],
      "toc_visible": true
    },
    "kernelspec": {
      "name": "python3",
      "display_name": "Python 3"
    },
    "accelerator": "GPU"
  },
  "cells": [
    {
      "cell_type": "markdown",
      "metadata": {
        "id": "tdS58ID2C0Hn"
      },
      "source": [
        "# **Initialization**"
      ]
    },
    {
      "cell_type": "markdown",
      "metadata": {
        "id": "3f31l8eMcTjm"
      },
      "source": [
        "## **Connecting GDrive**"
      ]
    },
    {
      "cell_type": "code",
      "metadata": {
        "colab": {
          "base_uri": "https://localhost:8080/"
        },
        "id": "ZZgsz7LZcKSQ",
        "outputId": "de511fa0-d325-41e9-96af-d677c64711a6"
      },
      "source": [
        "from google.colab import drive\n",
        "drive.mount('/content/drive')"
      ],
      "execution_count": null,
      "outputs": [
        {
          "output_type": "stream",
          "text": [
            "Drive already mounted at /content/drive; to attempt to forcibly remount, call drive.mount(\"/content/drive\", force_remount=True).\n"
          ],
          "name": "stdout"
        }
      ]
    },
    {
      "cell_type": "markdown",
      "metadata": {
        "id": "l_FJOvgtJlEH"
      },
      "source": [
        "## **Testing TensorFlow and GPU**"
      ]
    },
    {
      "cell_type": "code",
      "metadata": {
        "colab": {
          "base_uri": "https://localhost:8080/"
        },
        "id": "ZPySvnkbJlEH",
        "outputId": "7217b4a8-2ad1-4b21-e830-7d63f28643ef"
      },
      "source": [
        "import tensorflow as tf\n",
        "device_name = tf.test.gpu_device_name()\n",
        "if device_name != '/device:GPU:0':\n",
        "  raise SystemError('GPU device not found')\n",
        "print('Found GPU at: {}'.format(device_name))\n",
        "print(tf.__version__)"
      ],
      "execution_count": null,
      "outputs": [
        {
          "output_type": "stream",
          "text": [
            "Found GPU at: /device:GPU:0\n",
            "2.5.0\n"
          ],
          "name": "stdout"
        }
      ]
    },
    {
      "cell_type": "markdown",
      "metadata": {
        "id": "ObSAU8TMJlEI"
      },
      "source": [
        "## **Importing Libraries**"
      ]
    },
    {
      "cell_type": "code",
      "metadata": {
        "id": "nwwmi-OAJlEI"
      },
      "source": [
        "import numpy as np\n",
        "import pandas as pd\n",
        "import matplotlib.pyplot as plt\n",
        "from sklearn.model_selection import train_test_split\n",
        "np.random.seed(1337)  # for reproducibility\n",
        "from keras.preprocessing import sequence\n",
        "from keras.utils import np_utils\n",
        "from keras.models import Sequential, Model\n",
        "from keras.layers import Input, Dense, Dropout, Activation, Embedding, LSTM, SimpleRNN, GRU\n",
        "from tensorflow.keras.models import load_model\n",
        "from tensorflow.keras.callbacks import EarlyStopping\n",
        "from tensorflow.keras.callbacks import ModelCheckpoint\n",
        "from tensorflow.keras import regularizers\n",
        "from keras.utils.np_utils import to_categorical\n",
        "from sklearn import metrics\n",
        "from sklearn.metrics import classification_report, confusion_matrix, precision_score, recall_score, f1_score, precision_recall_curve, roc_auc_score, roc_curve\n",
        "from sklearn.metrics import classification_report, confusion_matrix\n",
        "from sklearn.preprocessing import Normalizer\n",
        "from sklearn.preprocessing import LabelEncoder\n",
        "\n",
        "%matplotlib inline\n"
      ],
      "execution_count": null,
      "outputs": []
    },
    {
      "cell_type": "markdown",
      "metadata": {
        "id": "nwCd_H42SGKC"
      },
      "source": [
        "# **Binary Classification Evaluation**"
      ]
    },
    {
      "cell_type": "markdown",
      "metadata": {
        "id": "ykpDzhssR8kh"
      },
      "source": [
        "## **Binary Data Preparation**"
      ]
    },
    {
      "cell_type": "code",
      "metadata": {
        "id": "qqJFWuMPSBk8"
      },
      "source": [
        "##Loading Dataset\n",
        "dataset = pd.read_csv(\"//content/drive/MyDrive/M.Tech Project/Dataset and Codes/CIC IDS 2018/cic-ids-2018-preprocessed.csv\")\n",
        "dataset = dataset.drop(['Unnamed: 0', 'category'],axis=1)\n",
        "## Separating Dependent(X) and InDependent Variables ##\n",
        "X = dataset.iloc[:, :-1]\n",
        "Y = dataset.iloc[:,-1]\n",
        "## Train Test Split for X and Y ##\n",
        "X_train, X_test, Y_train, Y_test = train_test_split(X, Y, test_size=0.2, stratify=Y)\n",
        "##Normalizing the X_test\n",
        "scaler = Normalizer().fit(X_test)\n",
        "X_test = scaler.transform(X_test)\n",
        "np.set_printoptions(precision=3)\n",
        "##Converting the dataframes to arrays\n",
        "X_test = np.array(X_test)\n",
        "Y_test = np.array(Y_test)"
      ],
      "execution_count": null,
      "outputs": []
    },
    {
      "cell_type": "code",
      "metadata": {
        "colab": {
          "base_uri": "https://localhost:8080/"
        },
        "id": "XPX99i3-TiVs",
        "outputId": "f63a6bb5-3481-4224-da58-0a8a8a1d24f8"
      },
      "source": [
        "AutoEncoder = load_model('/content/drive/MyDrive/M.Tech Project/Dataset and Codes/Saved Models/AutoEncoder5LayerBinary.h5')\n",
        "AutoEncoder.summary()"
      ],
      "execution_count": null,
      "outputs": [
        {
          "output_type": "stream",
          "text": [
            "Model: \"model\"\n",
            "_________________________________________________________________\n",
            "Layer (type)                 Output Shape              Param #   \n",
            "=================================================================\n",
            "input_1 (InputLayer)         [(None, 78)]              0         \n",
            "_________________________________________________________________\n",
            "dense (Dense)                (None, 64)                5056      \n",
            "_________________________________________________________________\n",
            "dense_1 (Dense)              (None, 32)                2080      \n",
            "_________________________________________________________________\n",
            "dense_2 (Dense)              (None, 64)                2112      \n",
            "_________________________________________________________________\n",
            "dense_3 (Dense)              (None, 78)                5070      \n",
            "=================================================================\n",
            "Total params: 14,318\n",
            "Trainable params: 14,318\n",
            "Non-trainable params: 0\n",
            "_________________________________________________________________\n"
          ],
          "name": "stdout"
        }
      ]
    },
    {
      "cell_type": "code",
      "metadata": {
        "colab": {
          "base_uri": "https://localhost:8080/"
        },
        "id": "nJdtPHR-TskW",
        "outputId": "1134441e-61a5-485a-fc11-7d424b258126"
      },
      "source": [
        "AutoEncoder.evaluate(X_test, X_test)"
      ],
      "execution_count": null,
      "outputs": [
        {
          "output_type": "stream",
          "text": [
            "20084/20084 [==============================] - 33s 2ms/step - loss: 1.0847e-05\n"
          ],
          "name": "stdout"
        },
        {
          "output_type": "execute_result",
          "data": {
            "text/plain": [
              "1.0846559234778397e-05"
            ]
          },
          "metadata": {
            "tags": []
          },
          "execution_count": 6
        }
      ]
    },
    {
      "cell_type": "code",
      "metadata": {
        "id": "XPjdQb_XTy8x"
      },
      "source": [
        "encoder = Sequential()\n",
        "encoder.add(AutoEncoder.layers[0])\n",
        "encoder.add(AutoEncoder.layers[1])\n",
        "encoder.add(AutoEncoder.layers[2])"
      ],
      "execution_count": null,
      "outputs": []
    },
    {
      "cell_type": "code",
      "metadata": {
        "colab": {
          "base_uri": "https://localhost:8080/"
        },
        "id": "lqAns59_T3M6",
        "outputId": "553e53d5-10ee-489b-de23-0618ff42e5a8"
      },
      "source": [
        "X_test = encoder.predict(X_test)\n",
        "print(X_test.shape, Y_test.shape)"
      ],
      "execution_count": null,
      "outputs": [
        {
          "output_type": "stream",
          "text": [
            "(642670, 32) (642670,)\n"
          ],
          "name": "stdout"
        }
      ]
    },
    {
      "cell_type": "markdown",
      "metadata": {
        "id": "y_WVF7kBSULA"
      },
      "source": [
        "## **Model Evaluation**"
      ]
    },
    {
      "cell_type": "code",
      "metadata": {
        "colab": {
          "base_uri": "https://localhost:8080/"
        },
        "id": "lCjsi6AUSJXO",
        "outputId": "5c2965e4-f040-4549-b4b5-54c2e2814109"
      },
      "source": [
        "model = load_model('/content/drive/MyDrive/M.Tech Project/Dataset and Codes/Saved Models/AutoEncoder5LayeredDNN5layeredBinary.h5')\n",
        "model.summary()"
      ],
      "execution_count": null,
      "outputs": [
        {
          "output_type": "stream",
          "text": [
            "Model: \"sequential_3\"\n",
            "_________________________________________________________________\n",
            "Layer (type)                 Output Shape              Param #   \n",
            "=================================================================\n",
            "dense_4 (Dense)              (None, 1024)              33792     \n",
            "_________________________________________________________________\n",
            "dropout (Dropout)            (None, 1024)              0         \n",
            "_________________________________________________________________\n",
            "dense_5 (Dense)              (None, 768)               787200    \n",
            "_________________________________________________________________\n",
            "dropout_1 (Dropout)          (None, 768)               0         \n",
            "_________________________________________________________________\n",
            "dense_6 (Dense)              (None, 512)               393728    \n",
            "_________________________________________________________________\n",
            "dropout_2 (Dropout)          (None, 512)               0         \n",
            "_________________________________________________________________\n",
            "dense_7 (Dense)              (None, 256)               131328    \n",
            "_________________________________________________________________\n",
            "dropout_3 (Dropout)          (None, 256)               0         \n",
            "_________________________________________________________________\n",
            "dense_8 (Dense)              (None, 128)               32896     \n",
            "_________________________________________________________________\n",
            "dropout_4 (Dropout)          (None, 128)               0         \n",
            "_________________________________________________________________\n",
            "dense_9 (Dense)              (None, 1)                 129       \n",
            "_________________________________________________________________\n",
            "activation (Activation)      (None, 1)                 0         \n",
            "=================================================================\n",
            "Total params: 1,379,073\n",
            "Trainable params: 1,379,073\n",
            "Non-trainable params: 0\n",
            "_________________________________________________________________\n"
          ],
          "name": "stdout"
        }
      ]
    },
    {
      "cell_type": "code",
      "metadata": {
        "colab": {
          "base_uri": "https://localhost:8080/"
        },
        "id": "EuB7_r3BUQpZ",
        "outputId": "d5bf67ff-514a-4ac1-8c9a-d9267e251659"
      },
      "source": [
        "Y_predicted = np.round(model.predict(X_test))\n",
        "Y_predicted = np.reshape(Y_predicted, Y_test.shape)\n",
        "print(classification_report(Y_test, Y_predicted))"
      ],
      "execution_count": null,
      "outputs": [
        {
          "output_type": "stream",
          "text": [
            "              precision    recall  f1-score   support\n",
            "\n",
            "           0       0.89      0.99      0.94    208521\n",
            "           1       1.00      0.94      0.97    434149\n",
            "\n",
            "    accuracy                           0.96    642670\n",
            "   macro avg       0.94      0.97      0.95    642670\n",
            "weighted avg       0.96      0.96      0.96    642670\n",
            "\n"
          ],
          "name": "stdout"
        }
      ]
    },
    {
      "cell_type": "code",
      "metadata": {
        "colab": {
          "base_uri": "https://localhost:8080/"
        },
        "id": "A_aQqJDRUTHG",
        "outputId": "81bece93-7646-40e0-f31a-0cb49dc4d502"
      },
      "source": [
        "cm = confusion_matrix(Y_test, Y_predicted)\n",
        "print(cm)"
      ],
      "execution_count": null,
      "outputs": [
        {
          "output_type": "stream",
          "text": [
            "[[207246   1275]\n",
            " [ 26301 407848]]\n"
          ],
          "name": "stdout"
        }
      ]
    },
    {
      "cell_type": "markdown",
      "metadata": {
        "id": "cNOaMPG0SJpu"
      },
      "source": [
        "# **Multiclass Classification Evaluation**"
      ]
    },
    {
      "cell_type": "markdown",
      "metadata": {
        "id": "srBzTO89SBzF"
      },
      "source": [
        "## **Multiclass Data Preparation**"
      ]
    },
    {
      "cell_type": "code",
      "metadata": {
        "id": "-64HHL8wSEt7"
      },
      "source": [
        "## Loading the dataset\n",
        "dataset = pd.read_csv(\"/content/drive/MyDrive/M.Tech Project/Dataset and Codes/CIC IDS 2018/cic-ids-2018-multiclass.csv\")\n",
        "dataset = dataset.drop(['Unnamed: 0', 'label'],axis=1)\n",
        "dataset.shape\n",
        "## Splitting the Dataset\n",
        "X = dataset.iloc[:, :-1]\n",
        "Y = dataset.iloc[:,-1]\n",
        "X_train, X_test, Y_train, Y_test = train_test_split(X, Y, test_size=0.2, stratify=Y)\n",
        "\n",
        "##Normalizing the X_train\n",
        "# scaler = Normalizer().fit(X_train)\n",
        "# X_train = scaler.transform(X_train)\n",
        "\n",
        "##Normalizing the X_test\n",
        "scaler = Normalizer().fit(X_test)\n",
        "X_test = scaler.transform(X_test)\n",
        "## Converting to Numpy Arrays\n",
        "# Y_train = np.array(Y_train)\n",
        "Y_test = np.array(Y_test)"
      ],
      "execution_count": null,
      "outputs": []
    },
    {
      "cell_type": "code",
      "metadata": {
        "colab": {
          "base_uri": "https://localhost:8080/"
        },
        "id": "7eNGrr6dU1cz",
        "outputId": "2f30f379-9ab8-47e0-d172-6bf02bbab364"
      },
      "source": [
        "from imblearn.over_sampling import SMOTE"
      ],
      "execution_count": null,
      "outputs": [
        {
          "output_type": "stream",
          "text": [
            "/usr/local/lib/python3.7/dist-packages/sklearn/externals/six.py:31: FutureWarning: The module is deprecated in version 0.21 and will be removed in version 0.23 since we've dropped support for Python 2.7. Please rely on the official version of six (https://pypi.org/project/six/).\n",
            "  \"(https://pypi.org/project/six/).\", FutureWarning)\n",
            "/usr/local/lib/python3.7/dist-packages/sklearn/utils/deprecation.py:144: FutureWarning: The sklearn.neighbors.base module is  deprecated in version 0.22 and will be removed in version 0.24. The corresponding classes / functions should instead be imported from sklearn.neighbors. Anything that cannot be imported from sklearn.neighbors is now part of the private API.\n",
            "  warnings.warn(message, FutureWarning)\n"
          ],
          "name": "stderr"
        }
      ]
    },
    {
      "cell_type": "code",
      "metadata": {
        "colab": {
          "base_uri": "https://localhost:8080/"
        },
        "id": "PU3Al4VuU19d",
        "outputId": "7baf7197-439f-4125-d4f3-1de1766aa550"
      },
      "source": [
        "## Oversampling for better results\n",
        "strategy = {1:2000, 2:2000, 11:2000}\n",
        "oversample = SMOTE(sampling_strategy = strategy)\n",
        "X_test, Y_test = oversample.fit_resample(X_test, Y_test)\n",
        "print(X_test.shape, Y_test.shape)"
      ],
      "execution_count": null,
      "outputs": [
        {
          "output_type": "stream",
          "text": [
            "/usr/local/lib/python3.7/dist-packages/sklearn/utils/deprecation.py:87: FutureWarning: Function safe_indexing is deprecated; safe_indexing is deprecated in version 0.22 and will be removed in version 0.24.\n",
            "  warnings.warn(msg, category=FutureWarning)\n",
            "/usr/local/lib/python3.7/dist-packages/sklearn/utils/deprecation.py:87: FutureWarning: Function safe_indexing is deprecated; safe_indexing is deprecated in version 0.22 and will be removed in version 0.24.\n",
            "  warnings.warn(msg, category=FutureWarning)\n"
          ],
          "name": "stderr"
        },
        {
          "output_type": "stream",
          "text": [
            "(439964, 78) (439964,)\n"
          ],
          "name": "stdout"
        },
        {
          "output_type": "stream",
          "text": [
            "/usr/local/lib/python3.7/dist-packages/sklearn/utils/deprecation.py:87: FutureWarning: Function safe_indexing is deprecated; safe_indexing is deprecated in version 0.22 and will be removed in version 0.24.\n",
            "  warnings.warn(msg, category=FutureWarning)\n"
          ],
          "name": "stderr"
        }
      ]
    },
    {
      "cell_type": "code",
      "metadata": {
        "id": "uz3W7KO7U9Fq"
      },
      "source": [
        "## Converting Output Labels to Sparse Format\n",
        "# Y_train = to_categorical(Y_train)\n",
        "Y_test = to_categorical(Y_test)"
      ],
      "execution_count": null,
      "outputs": []
    },
    {
      "cell_type": "code",
      "metadata": {
        "colab": {
          "base_uri": "https://localhost:8080/"
        },
        "id": "Uka6vyyOXgRu",
        "outputId": "c8a11b11-7807-451a-ab26-b4ebe0c4863c"
      },
      "source": [
        "print(X_test.shape, Y_test.shape)"
      ],
      "execution_count": null,
      "outputs": [
        {
          "output_type": "stream",
          "text": [
            "(439964, 78) (439964, 13)\n"
          ],
          "name": "stdout"
        }
      ]
    },
    {
      "cell_type": "code",
      "metadata": {
        "colab": {
          "base_uri": "https://localhost:8080/"
        },
        "id": "0iMbSUmqVMX4",
        "outputId": "bede4e16-1177-43ab-bc0c-754cc3a4e971"
      },
      "source": [
        "## Loading the AutoEncoder for Compressing Test Data\n",
        "AutoEncoder = load_model('/content/drive/MyDrive/M.Tech Project/Dataset and Codes/Saved Models/AutoEncoder5LayerSMOTE.h5')\n",
        "AutoEncoder.summary()"
      ],
      "execution_count": null,
      "outputs": [
        {
          "output_type": "stream",
          "text": [
            "Model: \"model\"\n",
            "_________________________________________________________________\n",
            "Layer (type)                 Output Shape              Param #   \n",
            "=================================================================\n",
            "input_1 (InputLayer)         [(None, 78)]              0         \n",
            "_________________________________________________________________\n",
            "dense (Dense)                (None, 64)                5056      \n",
            "_________________________________________________________________\n",
            "dense_1 (Dense)              (None, 32)                2080      \n",
            "_________________________________________________________________\n",
            "dense_2 (Dense)              (None, 64)                2112      \n",
            "_________________________________________________________________\n",
            "dense_3 (Dense)              (None, 78)                5070      \n",
            "=================================================================\n",
            "Total params: 14,318\n",
            "Trainable params: 14,318\n",
            "Non-trainable params: 0\n",
            "_________________________________________________________________\n"
          ],
          "name": "stdout"
        }
      ]
    },
    {
      "cell_type": "code",
      "metadata": {
        "colab": {
          "base_uri": "https://localhost:8080/"
        },
        "id": "hkGtHWasVPXK",
        "outputId": "aa80dcfa-7143-49db-8984-6db799616e6f"
      },
      "source": [
        "AutoEncoder.evaluate(X_test, X_test)"
      ],
      "execution_count": null,
      "outputs": [
        {
          "output_type": "stream",
          "text": [
            "13749/13749 [==============================] - 26s 2ms/step - loss: 5.2205e-05\n"
          ],
          "name": "stdout"
        },
        {
          "output_type": "execute_result",
          "data": {
            "text/plain": [
              "5.220545062911697e-05"
            ]
          },
          "metadata": {
            "tags": []
          },
          "execution_count": 18
        }
      ]
    },
    {
      "cell_type": "code",
      "metadata": {
        "id": "q-o3cxEuVZlo"
      },
      "source": [
        "## Extracting the Encoder Module\n",
        "encoder = Sequential()\n",
        "encoder.add(AutoEncoder.layers[0])\n",
        "encoder.add(AutoEncoder.layers[1])\n",
        "encoder.add(AutoEncoder.layers[2])"
      ],
      "execution_count": null,
      "outputs": []
    },
    {
      "cell_type": "code",
      "metadata": {
        "id": "OiXMNTyLVaEq"
      },
      "source": [
        "## Encoding the Testing Data\n",
        "# X_train_encoded = encoder.predict(X_train)\n",
        "X_test_encoded = encoder.predict(X_test)"
      ],
      "execution_count": null,
      "outputs": []
    },
    {
      "cell_type": "code",
      "metadata": {
        "colab": {
          "base_uri": "https://localhost:8080/"
        },
        "id": "s01WcjZBX1p5",
        "outputId": "ec0b684b-ee0c-4aec-e77a-3cfdb156a9b7"
      },
      "source": [
        "print(X_test_encoded.shape, Y_test.shape)"
      ],
      "execution_count": null,
      "outputs": [
        {
          "output_type": "stream",
          "text": [
            "(439964, 32) (439964, 13)\n"
          ],
          "name": "stdout"
        }
      ]
    },
    {
      "cell_type": "markdown",
      "metadata": {
        "id": "aeT28DvXSZep"
      },
      "source": [
        "## **Multiclass Model Evaluation**"
      ]
    },
    {
      "cell_type": "code",
      "metadata": {
        "colab": {
          "base_uri": "https://localhost:8080/"
        },
        "id": "KgI41BYmSMp-",
        "outputId": "d1ca4657-2570-4ddf-ee7a-d67662b3658b"
      },
      "source": [
        "## Loading the Multiclass Classifier\n",
        "model = load_model('/content/drive/MyDrive/M.Tech Project/Dataset and Codes/Saved Models/AutoEncoder5LayeredSMOTEDNN5layeredMulticlassSMOTEMORECLASS.h5')\n",
        "model.summary()"
      ],
      "execution_count": null,
      "outputs": [
        {
          "output_type": "stream",
          "text": [
            "Model: \"sequential_5\"\n",
            "_________________________________________________________________\n",
            "Layer (type)                 Output Shape              Param #   \n",
            "=================================================================\n",
            "dense_18 (Dense)             (None, 1024)              33792     \n",
            "_________________________________________________________________\n",
            "dropout_15 (Dropout)         (None, 1024)              0         \n",
            "_________________________________________________________________\n",
            "dense_19 (Dense)             (None, 768)               787200    \n",
            "_________________________________________________________________\n",
            "dropout_16 (Dropout)         (None, 768)               0         \n",
            "_________________________________________________________________\n",
            "dense_20 (Dense)             (None, 512)               393728    \n",
            "_________________________________________________________________\n",
            "dropout_17 (Dropout)         (None, 512)               0         \n",
            "_________________________________________________________________\n",
            "dense_21 (Dense)             (None, 256)               131328    \n",
            "_________________________________________________________________\n",
            "dropout_18 (Dropout)         (None, 256)               0         \n",
            "_________________________________________________________________\n",
            "dense_22 (Dense)             (None, 128)               32896     \n",
            "_________________________________________________________________\n",
            "dropout_19 (Dropout)         (None, 128)               0         \n",
            "_________________________________________________________________\n",
            "dense_23 (Dense)             (None, 13)                1677      \n",
            "_________________________________________________________________\n",
            "activation_3 (Activation)    (None, 13)                0         \n",
            "=================================================================\n",
            "Total params: 1,380,621\n",
            "Trainable params: 1,380,621\n",
            "Non-trainable params: 0\n",
            "_________________________________________________________________\n"
          ],
          "name": "stdout"
        }
      ]
    },
    {
      "cell_type": "code",
      "metadata": {
        "colab": {
          "base_uri": "https://localhost:8080/"
        },
        "id": "NRC74zJyVi6A",
        "outputId": "38d852f5-5693-4706-df0a-6d149388ef34"
      },
      "source": [
        "model.evaluate(X_test_encoded, Y_test)"
      ],
      "execution_count": null,
      "outputs": [
        {
          "output_type": "stream",
          "text": [
            "13749/13749 [==============================] - 37s 3ms/step - loss: 0.1093 - accuracy: 0.9522\n"
          ],
          "name": "stdout"
        },
        {
          "output_type": "execute_result",
          "data": {
            "text/plain": [
              "[0.1092715635895729, 0.9522188305854797]"
            ]
          },
          "metadata": {
            "tags": []
          },
          "execution_count": 19
        }
      ]
    },
    {
      "cell_type": "code",
      "metadata": {
        "id": "K5Ce1fuSVlda"
      },
      "source": [
        "## Generating Predictions\n",
        "Y_predicted = np.round(model.predict(X_test_encoded))\n",
        "Y_predicted = np.reshape(Y_predicted, Y_test.shape)"
      ],
      "execution_count": null,
      "outputs": []
    },
    {
      "cell_type": "code",
      "metadata": {
        "colab": {
          "base_uri": "https://localhost:8080/"
        },
        "id": "CjPyBR-fVwl-",
        "outputId": "4d83847d-2a93-444a-e6a6-18131a345a48"
      },
      "source": [
        "## Generating Classification Report on the Predicted vs Actual Value\n",
        "print(classification_report(Y_test, Y_predicted))"
      ],
      "execution_count": null,
      "outputs": [
        {
          "output_type": "stream",
          "text": [
            "              precision    recall  f1-score   support\n",
            "\n",
            "           0       1.00      1.00      1.00     57238\n",
            "           1       0.77      0.81      0.79      2000\n",
            "           2       0.84      0.89      0.86      2000\n",
            "           3       1.00      1.00      1.00    137203\n",
            "           4       1.00      1.00      1.00       346\n",
            "           5       0.94      0.99      0.97      8302\n",
            "           6       1.00      1.00      1.00     92382\n",
            "           7       0.74      0.52      0.61     27978\n",
            "           8       0.91      0.99      0.95      2198\n",
            "           9       0.71      0.86      0.78     38671\n",
            "          10       1.00      0.97      0.98     32128\n",
            "          11       0.76      0.85      0.80      2000\n",
            "          12       1.00      1.00      1.00     37518\n",
            "\n",
            "   micro avg       0.95      0.95      0.95    439964\n",
            "   macro avg       0.90      0.91      0.90    439964\n",
            "weighted avg       0.95      0.95      0.95    439964\n",
            " samples avg       0.95      0.95      0.95    439964\n",
            "\n"
          ],
          "name": "stdout"
        },
        {
          "output_type": "stream",
          "text": [
            "/usr/local/lib/python3.7/dist-packages/sklearn/metrics/_classification.py:1272: UndefinedMetricWarning: Precision and F-score are ill-defined and being set to 0.0 in samples with no predicted labels. Use `zero_division` parameter to control this behavior.\n",
            "  _warn_prf(average, modifier, msg_start, len(result))\n"
          ],
          "name": "stderr"
        }
      ]
    },
    {
      "cell_type": "code",
      "metadata": {
        "colab": {
          "base_uri": "https://localhost:8080/"
        },
        "id": "8aHxaIuiVvio",
        "outputId": "046cae37-598d-4113-8897-6a8c3687d223"
      },
      "source": [
        "## Generating the Confusion Matrix\n",
        "cm = confusion_matrix(Y_test.argmax(axis=1), Y_predicted.argmax(axis=1))\n",
        "print(cm)"
      ],
      "execution_count": null,
      "outputs": [
        {
          "output_type": "stream",
          "text": [
            "[[ 57217      1      1      0      0      2      8      0      0      0\n",
            "       8      1      0]\n",
            " [    11   1627    182      0      0      0      0      0      0      0\n",
            "       3    177      0]\n",
            " [    16    140   1771      0      0      0      0      0      0      0\n",
            "       0     73      0]\n",
            " [     0      0      7 137195      0      0      0      0      0      0\n",
            "       0      1      0]\n",
            " [     0      0      0      0    345      0      0      0      0      0\n",
            "       0      0      1]\n",
            " [    18      1      0      0      0   8226      2      0     11      0\n",
            "       1     43      0]\n",
            " [    55      0      0      0      0     10  92018      0    154      0\n",
            "      59     86      0]\n",
            " [     0      0      0      0      0      0      0  14573      0  13405\n",
            "       0      0      0]\n",
            " [     2      0      0      0      0      2      0      0   2166      0\n",
            "       3     25      0]\n",
            " [     0      0      0      0      0      0      0   5223      0  33448\n",
            "       0      0      0]\n",
            " [    45    212    107      9      0    422     79     23     43     32\n",
            "   31025    129      2]\n",
            " [    79    131     31      0      0     64      0      0      0      0\n",
            "       0   1695      0]\n",
            " [     8      8      1      0      0      0      1      2      0      4\n",
            "       1      1  37492]]\n"
          ],
          "name": "stdout"
        }
      ]
    }
  ]
}