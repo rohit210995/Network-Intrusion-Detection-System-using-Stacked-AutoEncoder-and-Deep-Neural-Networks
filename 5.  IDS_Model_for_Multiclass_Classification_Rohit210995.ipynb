{
  "nbformat": 4,
  "nbformat_minor": 0,
  "metadata": {
    "colab": {
      "name": "IDS Model for Multiclass Classification Rohit210995.ipynb",
      "provenance": [],
      "collapsed_sections": [
        "9-nB2cseM6K6",
        "EUm7FmN2gxJP"
      ],
      "toc_visible": true
    },
    "kernelspec": {
      "name": "python3",
      "display_name": "Python 3"
    },
    "accelerator": "GPU"
  },
  "cells": [
    {
      "cell_type": "markdown",
      "metadata": {
        "id": "9-nB2cseM6K6"
      },
      "source": [
        "# **Initilization**"
      ]
    },
    {
      "cell_type": "markdown",
      "metadata": {
        "id": "3f31l8eMcTjm"
      },
      "source": [
        "## **Connecting GDrive**"
      ]
    },
    {
      "cell_type": "code",
      "metadata": {
        "colab": {
          "base_uri": "https://localhost:8080/"
        },
        "id": "ZZgsz7LZcKSQ",
        "outputId": "549fd6f8-58f3-46da-8ee6-fe3939117606"
      },
      "source": [
        "from google.colab import drive\n",
        "drive.mount('/content/drive')"
      ],
      "execution_count": null,
      "outputs": [
        {
          "output_type": "stream",
          "text": [
            "Mounted at /content/drive\n"
          ],
          "name": "stdout"
        }
      ]
    },
    {
      "cell_type": "markdown",
      "metadata": {
        "id": "ldopxpVh5m-W"
      },
      "source": [
        "## **Testing TensorFlow and GPU**"
      ]
    },
    {
      "cell_type": "code",
      "metadata": {
        "colab": {
          "base_uri": "https://localhost:8080/"
        },
        "id": "431byJMr5PpD",
        "outputId": "efd1fefe-a2dc-4ba5-f9f9-77eca2018563"
      },
      "source": [
        "import tensorflow as tf\n",
        "device_name = tf.test.gpu_device_name()\n",
        "if device_name != '/device:GPU:0':\n",
        "  raise SystemError('GPU device not found')\n",
        "print('Found GPU at: {}'.format(device_name))\n",
        "print(tf.__version__)"
      ],
      "execution_count": null,
      "outputs": [
        {
          "output_type": "stream",
          "text": [
            "Found GPU at: /device:GPU:0\n",
            "2.5.0\n"
          ],
          "name": "stdout"
        }
      ]
    },
    {
      "cell_type": "markdown",
      "metadata": {
        "id": "nmRKRfKZ5t5S"
      },
      "source": [
        "## **Importing Libraries**"
      ]
    },
    {
      "cell_type": "code",
      "metadata": {
        "id": "Kz2N_PEB5wSY"
      },
      "source": [
        "import numpy as np\n",
        "import pandas as pd\n",
        "import matplotlib.pyplot as plt\n",
        "from sklearn.model_selection import train_test_split\n",
        "np.random.seed(1337)  # for reproducibility\n",
        "from keras.preprocessing import sequence\n",
        "from keras.utils import np_utils\n",
        "from keras.models import Sequential, Model\n",
        "from keras.layers import Input, Dense, Dropout, Activation, Embedding, LSTM, SimpleRNN, GRU\n",
        "from tensorflow.keras.models import load_model\n",
        "from tensorflow.keras.callbacks import EarlyStopping\n",
        "from tensorflow.keras.callbacks import ModelCheckpoint\n",
        "from tensorflow.keras import regularizers\n",
        "from keras.utils.np_utils import to_categorical\n",
        "from sklearn import metrics\n",
        "from sklearn.metrics import classification_report, confusion_matrix, precision_score, recall_score, f1_score, precision_recall_curve, roc_auc_score, roc_curve\n",
        "from sklearn.preprocessing import Normalizer\n",
        "from sklearn.preprocessing import LabelEncoder\n",
        "\n",
        "%matplotlib inline\n"
      ],
      "execution_count": null,
      "outputs": []
    },
    {
      "cell_type": "markdown",
      "metadata": {
        "id": "1rQGjKkJxUCf"
      },
      "source": [
        "# **Data Preparation**"
      ]
    },
    {
      "cell_type": "markdown",
      "metadata": {
        "id": "NjuC8Xif5wlw"
      },
      "source": [
        "## **Importing Dataset**"
      ]
    },
    {
      "cell_type": "code",
      "metadata": {
        "id": "zO77xYBqa6MB"
      },
      "source": [
        "dataset = pd.read_csv(\"/content/drive/MyDrive/M.Tech Project/Dataset and Codes/CIC IDS 2018/cic-ids-2018-multiclass.csv\")\n",
        "dataset = dataset.drop(['Unnamed: 0', 'label'],axis=1)"
      ],
      "execution_count": null,
      "outputs": []
    },
    {
      "cell_type": "code",
      "metadata": {
        "id": "smzE_Lxsr9nf"
      },
      "source": [
        "## Separating the Dependent and Independent Variables ##\n",
        "X = dataset.iloc[:, :-1]\n",
        "Y = dataset.iloc[:,-1]\n",
        "## Splitting Data into Train and Test Set ##\n",
        "X_train, X_test, Y_train, Y_test = train_test_split(X, Y, test_size=0.2, stratify=Y)\n",
        "##Normalizing the X_train ##\n",
        "scaler = Normalizer().fit(X_train)\n",
        "X_train = scaler.transform(X_train)\n",
        "##Normalizing the X_test ##\n",
        "scaler = Normalizer().fit(X_test)\n",
        "X_test = scaler.transform(X_test)\n",
        "## SMOTE for Training Data ##\n",
        "from imblearn.over_sampling import SMOTE\n",
        "strategy = {5:10000, 8:10000, 4:10000, 1:20000, 2:20000, 11:20000}\n",
        "oversample = SMOTE(sampling_strategy = strategy)\n",
        "X_train, Y_train = oversample.fit_resample(X_train, Y_train)\n",
        "## SMOTE for Test Samples\n",
        "from imblearn.over_sampling import SMOTE\n",
        "strategy = {1:2000, 2:2000, 11:2000}\n",
        "oversample = SMOTE(sampling_strategy = strategy)\n",
        "X_test, Y_test = oversample.fit_resample(X_test, Y_test)\n",
        "## Converting into Numpy Array ##\n",
        "Y_train = np.array(Y_train)\n",
        "Y_test = np.array(Y_test)\n",
        "## Converting the output variable into Categorical Vectors\n",
        "Y_train = to_categorical(Y_train)\n",
        "Y_test = to_categorical(Y_test)"
      ],
      "execution_count": null,
      "outputs": []
    },
    {
      "cell_type": "markdown",
      "metadata": {
        "id": "zlppqx-3u-9X"
      },
      "source": [
        "# **DNN**"
      ]
    },
    {
      "cell_type": "markdown",
      "metadata": {
        "id": "SUlPwDT0jMfL"
      },
      "source": [
        "## **Training The Model**"
      ]
    },
    {
      "cell_type": "code",
      "metadata": {
        "id": "G2k0J9AdlB-r",
        "colab": {
          "base_uri": "https://localhost:8080/",
          "height": 590
        },
        "outputId": "0d93205c-5487-4db8-89ef-ab4052d67c5e"
      },
      "source": [
        "# 1. define the network\n",
        "model = Sequential()\n",
        "model.add(Dense(1024,input_dim=78,activation='relu'))  \n",
        "model.add(Dropout(0.01))\n",
        "model.add(Dense(768,activation='relu'))  \n",
        "model.add(Dropout(0.01))\n",
        "model.add(Dense(512,activation='relu'))  \n",
        "model.add(Dropout(0.01))\n",
        "model.add(Dense(256,activation='relu'))  \n",
        "model.add(Dropout(0.01))\n",
        "model.add(Dense(128,activation='relu'))  \n",
        "model.add(Dropout(0.01))\n",
        "model.add(Dense(13))\n",
        "model.add(Activation('softmax'))\n",
        "\n",
        "# try using different optimizers and different optimizer configs\n",
        "model.compile(loss='categorical_crossentropy',optimizer='adam',metrics=['accuracy'])\n",
        "with tf.device('/device:GPU:0'):\n",
        "  model_history = model.fit(X_train, Y_train, validation_data=(X_test, Y_test), batch_size=64, epochs=30, verbose=0)\n",
        "print(model_history.history.keys())\n",
        "# summarize history for accuracy\n",
        "plt.plot(model_history.history['accuracy'])\n",
        "plt.plot(model_history.history['val_accuracy'])\n",
        "plt.title('model accuracy')\n",
        "plt.ylabel('accuracy')\n",
        "plt.xlabel('epoch')\n",
        "plt.legend(['train', 'test'], loc='upper left')\n",
        "plt.show()\n",
        "# summarize history for loss\n",
        "plt.plot(model_history.history['loss'])\n",
        "plt.plot(model_history.history['val_loss'])\n",
        "plt.title('model loss')\n",
        "plt.ylabel('loss')\n",
        "plt.xlabel('epoch')\n",
        "plt.legend(['train', 'test'], loc='upper left')\n",
        "plt.show()"
      ],
      "execution_count": null,
      "outputs": [
        {
          "output_type": "stream",
          "text": [
            "dict_keys(['loss', 'accuracy', 'val_loss', 'val_accuracy'])\n"
          ],
          "name": "stdout"
        },
        {
          "output_type": "display_data",
          "data": {
            "image/png": "[encoded data removed]",
            "text/plain": [
              "<Figure size 432x288 with 1 Axes>"
            ]
          },
          "metadata": {
            "tags": [],
            "needs_background": "light"
          }
        },
        {
          "output_type": "display_data",
          "data": {
            "image/png": "[encoded data removed]",
            "text/plain": [
              "<Figure size 432x288 with 1 Axes>"
            ]
          },
          "metadata": {
            "tags": [],
            "needs_background": "light"
          }
        }
      ]
    },
    {
      "cell_type": "markdown",
      "metadata": {
        "id": "wJpwIopLLGt3"
      },
      "source": [
        "## **Model Evaluation**"
      ]
    },
    {
      "cell_type": "code",
      "metadata": {
        "colab": {
          "base_uri": "https://localhost:8080/"
        },
        "id": "dtJFzHMAgvsq",
        "outputId": "c2dc2f48-effb-4545-c1f9-5fa72448481c"
      },
      "source": [
        "model.evaluate(X_test,Y_test)"
      ],
      "execution_count": null,
      "outputs": [
        {
          "output_type": "stream",
          "text": [
            "13568/13568 [==============================] - 28s 2ms/step - loss: 0.0865 - accuracy: 0.9566\n"
          ],
          "name": "stdout"
        },
        {
          "output_type": "execute_result",
          "data": {
            "text/plain": [
              "[0.08649487048387527, 0.956554114818573]"
            ]
          },
          "metadata": {
            "tags": []
          },
          "execution_count": 12
        }
      ]
    },
    {
      "cell_type": "code",
      "metadata": {
        "id": "mc3piyBMnAZ2"
      },
      "source": [
        "## Testing Model\n",
        "Y_predicted = np.round(model.predict(X_test))\n",
        "Y_predicted = np.reshape(Y_predicted, Y_test.shape)"
      ],
      "execution_count": null,
      "outputs": []
    },
    {
      "cell_type": "code",
      "metadata": {
        "colab": {
          "base_uri": "https://localhost:8080/"
        },
        "id": "nhPuNBSEmiRB",
        "outputId": "a1fcd85b-4150-418a-e3de-4a74bb15f502"
      },
      "source": [
        "## Generating Classification Report on the Predicted vs Actual Value\n",
        "print(classification_report(Y_test, Y_predicted))"
      ],
      "execution_count": null,
      "outputs": [
        {
          "output_type": "stream",
          "text": [
            "/usr/local/lib/python3.7/dist-packages/sklearn/metrics/_classification.py:1272: UndefinedMetricWarning: Precision and F-score are ill-defined and being set to 0.0 in labels with no predicted samples. Use `zero_division` parameter to control this behavior.\n",
            "  _warn_prf(average, modifier, msg_start, len(result))\n"
          ],
          "name": "stderr"
        },
        {
          "output_type": "stream",
          "text": [
            "              precision    recall  f1-score   support\n",
            "\n",
            "           0       1.00      1.00      1.00     57238\n",
            "           1       0.00      0.00      0.00      2000\n",
            "           2       1.00      0.47      0.64      2000\n",
            "           3       1.00      1.00      1.00    137203\n",
            "           4       1.00      1.00      1.00       346\n",
            "           5       0.92      1.00      0.95      8302\n",
            "           6       1.00      1.00      1.00     92382\n",
            "           7       0.75      0.51      0.61     27978\n",
            "           8       0.98      0.97      0.97      2198\n",
            "           9       0.71      0.88      0.79     38671\n",
            "          10       0.92      0.98      0.95     32128\n",
            "          11       0.00      0.00      0.00      2000\n",
            "          12       1.00      1.00      1.00     37518\n",
            "\n",
            "   micro avg       0.95      0.95      0.95    439964\n",
            "   macro avg       0.79      0.75      0.76    439964\n",
            "weighted avg       0.94      0.95      0.94    439964\n",
            " samples avg       0.95      0.95      0.95    439964\n",
            "\n"
          ],
          "name": "stdout"
        },
        {
          "output_type": "stream",
          "text": [
            "/usr/local/lib/python3.7/dist-packages/sklearn/metrics/_classification.py:1272: UndefinedMetricWarning: Precision and F-score are ill-defined and being set to 0.0 in samples with no predicted labels. Use `zero_division` parameter to control this behavior.\n",
            "  _warn_prf(average, modifier, msg_start, len(result))\n"
          ],
          "name": "stderr"
        }
      ]
    },
    {
      "cell_type": "code",
      "metadata": {
        "colab": {
          "base_uri": "https://localhost:8080/"
        },
        "id": "mU8wX4Ojmlvx",
        "outputId": "04686190-4827-4880-f612-95822b6d6167"
      },
      "source": [
        "## Generating the Confusion Matrix\n",
        "cm = confusion_matrix(Y_test.argmax(axis=1), Y_predicted.argmax(axis=1))\n",
        "print(cm)"
      ],
      "execution_count": null,
      "outputs": [
        {
          "output_type": "stream",
          "text": [
            "[[ 57230      0      1      0      0      0      0      0      0      0\n",
            "       7      0      0]\n",
            " [  1029      0      0      0      0    227      0      0      0      0\n",
            "     740      0      4]\n",
            " [   152      0    949      0      0      0      0      0      0      0\n",
            "     899      0      0]\n",
            " [     0      0      0 137203      0      0      0      0      0      0\n",
            "       0      0      0]\n",
            " [     0      0      0      0    346      0      0      0      0      0\n",
            "       0      0      0]\n",
            " [     5      0      0      0      0   8276      2      0     13      0\n",
            "       6      0      0]\n",
            " [   129      0      0      0      0      0  92248      0      0      0\n",
            "       5      0      0]\n",
            " [     0      0      0      0      0      0      0  14254      0  13724\n",
            "       0      0      0]\n",
            " [    49      0      0      1      0      0      1      0   2132      0\n",
            "      15      0      0]\n",
            " [     0      0      0      0      0      0      0   4654      0  34017\n",
            "       0      0      0]\n",
            " [   265      0      3      8      0    113     52     19     35     25\n",
            "   31606      0      2]\n",
            " [   338      0      0      0      0    425    276      0      0      0\n",
            "     961      0      0]\n",
            " [     0      0      0      0      0      0      0      4      0      4\n",
            "       0      0  37510]]\n"
          ],
          "name": "stdout"
        }
      ]
    },
    {
      "cell_type": "code",
      "metadata": {
        "id": "8RZzdW7wJzan"
      },
      "source": [
        "FP = cm.sum(axis=0) - np.diag(cm)  \n",
        "FN = cm.sum(axis=1) - np.diag(cm)\n",
        "TP = np.diag(cm)\n",
        "TN = cm.sum() - (FP + FN + TP)"
      ],
      "execution_count": null,
      "outputs": []
    },
    {
      "cell_type": "code",
      "metadata": {
        "colab": {
          "base_uri": "https://localhost:8080/"
        },
        "id": "xQ23DTa2Jzav",
        "outputId": "2839c574-ee33-40b2-e285-8de86fa92647"
      },
      "source": [
        "# True positive rate\n",
        "TPR = TP/(TP+FN)\n",
        "TPR"
      ],
      "execution_count": null,
      "outputs": [
        {
          "output_type": "execute_result",
          "data": {
            "text/plain": [
              "array([0.99973794, 0.2215    , 0.3445    , 1.        , 0.99710983,\n",
              "       0.99771139, 0.99992423, 0.50493245, 0.95131938, 0.88991751,\n",
              "       0.99028884, 0.        , 0.99968015])"
            ]
          },
          "metadata": {
            "tags": []
          },
          "execution_count": 13
        }
      ]
    },
    {
      "cell_type": "code",
      "metadata": {
        "colab": {
          "base_uri": "https://localhost:8080/"
        },
        "id": "2aN7DSgoJzaw",
        "outputId": "bf3d2470-cd1b-464b-cc61-c78a7a8faabd"
      },
      "source": [
        "# True negative rate\n",
        "TNR = TN/(TN+FP) \n",
        "TNR"
      ],
      "execution_count": null,
      "outputs": [
        {
          "output_type": "execute_result",
          "data": {
            "text/plain": [
              "array([0.99579856, 0.9997808 , 1.        , 0.99969943, 1.        ,\n",
              "       0.99860076, 0.99934404, 0.9894778 , 0.99992233, 0.96539436,\n",
              "       0.99371071, 1.        , 0.99999752])"
            ]
          },
          "metadata": {
            "tags": []
          },
          "execution_count": 14
        }
      ]
    },
    {
      "cell_type": "code",
      "metadata": {
        "colab": {
          "base_uri": "https://localhost:8080/"
        },
        "id": "5hmnS6WhJzaw",
        "outputId": "881a3a12-f8ae-4a28-fd92-00f55ee15f88"
      },
      "source": [
        "# Precision\n",
        "PPV = TP/(TP+FP)\n",
        "PPV"
      ],
      "execution_count": null,
      "outputs": [
        {
          "output_type": "stream",
          "text": [
            "/usr/local/lib/python3.7/dist-packages/ipykernel_launcher.py:2: RuntimeWarning: invalid value encountered in true_divide\n",
            "  \n"
          ],
          "name": "stderr"
        },
        {
          "output_type": "execute_result",
          "data": {
            "text/plain": [
              "array([0.97266747, 0.82189239, 1.        , 0.99933719, 1.        ,\n",
              "       0.93203556, 0.99753788, 0.76519337, 0.984     , 0.71249042,\n",
              "       0.92539484,        nan, 0.99997334])"
            ]
          },
          "metadata": {
            "tags": []
          },
          "execution_count": 15
        }
      ]
    },
    {
      "cell_type": "code",
      "metadata": {
        "colab": {
          "base_uri": "https://localhost:8080/"
        },
        "id": "bvonEfNqJzaw",
        "outputId": "27dbe39a-0ac6-46bc-b429-b092900166e7"
      },
      "source": [
        "# Negative predictive value\n",
        "NPV = TN/(TN+FN)\n",
        "NPV"
      ],
      "execution_count": null,
      "outputs": [
        {
          "output_type": "execute_result",
          "data": {
            "text/plain": [
              "array([0.99996064, 0.99645673, 0.99701554, 1.        , 0.99999773,\n",
              "       0.99995592, 0.99997985, 0.96713895, 0.99975562, 0.98913096,\n",
              "       0.99923074, 0.99545417, 0.99997018])"
            ]
          },
          "metadata": {
            "tags": []
          },
          "execution_count": 16
        }
      ]
    },
    {
      "cell_type": "code",
      "metadata": {
        "colab": {
          "base_uri": "https://localhost:8080/"
        },
        "id": "-78JNywSJzaw",
        "outputId": "ff51d209-4ddc-42fd-d9cb-a2623c973177"
      },
      "source": [
        "# False positive rate\n",
        "FPR = FP/(FP+TN)\n",
        "FPR"
      ],
      "execution_count": null,
      "outputs": [
        {
          "output_type": "execute_result",
          "data": {
            "text/plain": [
              "array([4.20143915e-03, 2.19196098e-04, 0.00000000e+00, 3.00567114e-04,\n",
              "       0.00000000e+00, 1.39924293e-03, 6.55960320e-04, 1.05222022e-02,\n",
              "       7.76670641e-05, 3.46056373e-02, 6.28929275e-03, 0.00000000e+00,\n",
              "       2.48480541e-06])"
            ]
          },
          "metadata": {
            "tags": []
          },
          "execution_count": 17
        }
      ]
    },
    {
      "cell_type": "code",
      "metadata": {
        "colab": {
          "base_uri": "https://localhost:8080/"
        },
        "id": "BSRKkxd7Jzaw",
        "outputId": "f2bc77cd-16b2-4cd1-acc6-1f8690362e0b"
      },
      "source": [
        "# False negative rate\n",
        "FNR = FN/(TP+FN)\n",
        "FNR"
      ],
      "execution_count": null,
      "outputs": [
        {
          "output_type": "execute_result",
          "data": {
            "text/plain": [
              "array([2.62063664e-04, 7.78500000e-01, 6.55500000e-01, 0.00000000e+00,\n",
              "       2.89017341e-03, 2.28860516e-03, 7.57723366e-05, 4.95067553e-01,\n",
              "       4.86806187e-02, 1.10082491e-01, 9.71115538e-03, 1.00000000e+00,\n",
              "       3.19846474e-04])"
            ]
          },
          "metadata": {
            "tags": []
          },
          "execution_count": 18
        }
      ]
    },
    {
      "cell_type": "code",
      "metadata": {
        "colab": {
          "base_uri": "https://localhost:8080/"
        },
        "id": "2MxC2k2tJzaw",
        "outputId": "5a1ab4a1-b411-478b-aba7-1d2472eef765"
      },
      "source": [
        "# False discovery rate\n",
        "FDR = FP/(TP+FP)\n",
        "FDR"
      ],
      "execution_count": null,
      "outputs": [
        {
          "output_type": "stream",
          "text": [
            "/usr/local/lib/python3.7/dist-packages/ipykernel_launcher.py:2: RuntimeWarning: invalid value encountered in true_divide\n",
            "  \n"
          ],
          "name": "stderr"
        },
        {
          "output_type": "execute_result",
          "data": {
            "text/plain": [
              "array([2.73325288e-02, 1.78107607e-01, 0.00000000e+00, 6.62811193e-04,\n",
              "       0.00000000e+00, 6.79644424e-02, 2.46212326e-03, 2.34806630e-01,\n",
              "       1.60000000e-02, 2.87509575e-01, 7.46051598e-02,            nan,\n",
              "       2.66616898e-05])"
            ]
          },
          "metadata": {
            "tags": []
          },
          "execution_count": 19
        }
      ]
    },
    {
      "cell_type": "code",
      "metadata": {
        "colab": {
          "base_uri": "https://localhost:8080/"
        },
        "id": "JIN_NC6OJzax",
        "outputId": "f49bdf48-9b23-45bd-97dc-d8277dc3002c"
      },
      "source": [
        "# Overall accuracy\n",
        "ACC = (TP+TN)/(TP+FP+FN+TN)\n",
        "ACC"
      ],
      "execution_count": null,
      "outputs": [
        {
          "output_type": "execute_result",
          "data": {
            "text/plain": [
              "array([0.99631106, 0.99624287, 0.99702021, 0.99979316, 0.99999773,\n",
              "       0.99858398, 0.99946587, 0.9586648 , 0.99967952, 0.95876026,\n",
              "       0.99346083, 0.99545417, 0.99997045])"
            ]
          },
          "metadata": {
            "tags": []
          },
          "execution_count": 20
        }
      ]
    }
  ]
}