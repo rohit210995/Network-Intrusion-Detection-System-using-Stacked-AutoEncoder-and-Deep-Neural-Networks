{
  "nbformat": 4,
  "nbformat_minor": 0,
  "metadata": {
    "colab": {
      "name": "Demo IDS using AutoEncoders and Deep Neural Networks.ipynb",
      "provenance": [],
      "collapsed_sections": [],
      "toc_visible": true
    },
    "kernelspec": {
      "name": "python3",
      "display_name": "Python 3"
    },
    "accelerator": "GPU"
  },
  "cells": [
    {
      "cell_type": "markdown",
      "metadata": {
        "id": "tdS58ID2C0Hn"
      },
      "source": [
        "# **Initialization**"
      ]
    },
    {
      "cell_type": "markdown",
      "metadata": {
        "id": "3f31l8eMcTjm"
      },
      "source": [
        "## **Connecting GDrive**"
      ]
    },
    {
      "cell_type": "code",
      "metadata": {
        "colab": {
          "base_uri": "https://localhost:8080/"
        },
        "id": "ZZgsz7LZcKSQ",
        "outputId": "de511fa0-d325-41e9-96af-d677c64711a6"
      },
      "source": [
        "from google.colab import drive\n",
        "drive.mount('/content/drive')"
      ],
      "execution_count": null,
      "outputs": [
        {
          "output_type": "stream",
          "text": [
            "Drive already mounted at /content/drive; to attempt to forcibly remount, call drive.mount(\"/content/drive\", force_remount=True).\n"
          ],
          "name": "stdout"
        }
      ]
    },
    {
      "cell_type": "markdown",
      "metadata": {
        "id": "l_FJOvgtJlEH"
      },
      "source": [
        "## **Testing TensorFlow and GPU**"
      ]
    },
    {
      "cell_type": "code",
      "metadata": {
        "colab": {
          "base_uri": "https://localhost:8080/"
        },
        "id": "ZPySvnkbJlEH",
        "outputId": "7217b4a8-2ad1-4b21-e830-7d63f28643ef"
      },
      "source": [
        "import tensorflow as tf\n",
        "device_name = tf.test.gpu_device_name()\n",
        "if device_name != '/device:GPU:0':\n",
        "  raise SystemError('GPU device not found')\n",
        "print('Found GPU at: {}'.format(device_name))\n",
        "print(tf.__version__)"
      ],
      "execution_count": null,
      "outputs": [
        {
          "output_type": "stream",
          "text": [
            "Found GPU at: /device:GPU:0\n",
            "2.5.0\n"
          ],
          "name": "stdout"
        }
      ]
    },
    {
      "cell_type": "markdown",
      "metadata": {
        "id": "ObSAU8TMJlEI"
      },
      "source": [
        "## **Importing Libraries**"
      ]
    },
    {
      "cell_type": "code",
      "metadata": {
        "id": "nwwmi-OAJlEI"
      },
      "source": [
        "import numpy as np\n",
        "import pandas as pd\n",
        "import matplotlib.pyplot as plt\n",
        "from sklearn.model_selection import train_test_split\n",
        "np.random.seed(1337)  # for reproducibility\n",
        "from keras.preprocessing import sequence\n",
        "from keras.utils import np_utils\n",
        "from keras.models import Sequential, Model\n",
        "from keras.layers import Input, Dense, Dropout, Activation, Embedding, LSTM, SimpleRNN, GRU\n",
        "from tensorflow.keras.models import load_model\n",
        "from tensorflow.keras.callbacks import EarlyStopping\n",
        "from tensorflow.keras.callbacks import ModelCheckpoint\n",
        "from tensorflow.keras import regularizers\n",
        "from keras.utils.np_utils import to_categorical\n",
        "from sklearn import metrics\n",
        "from sklearn.metrics import classification_report, confusion_matrix, precision_score, recall_score, f1_score, precision_recall_curve, roc_auc_score, roc_curve\n",
        "from sklearn.metrics import classification_report, confusion_matrix\n",
        "from sklearn.preprocessing import Normalizer\n",
        "from sklearn.preprocessing import LabelEncoder\n",
        "\n",
        "%matplotlib inline\n"
      ],
      "execution_count": null,
      "outputs": []
    },
    {
      "cell_type": "markdown",
      "metadata": {
        "id": "nwCd_H42SGKC"
      },
      "source": [
        "# **Binary Classification Evaluation**"
      ]
    },
    {
      "cell_type": "markdown",
      "metadata": {
        "id": "ykpDzhssR8kh"
      },
      "source": [
        "## **Binary Data Preparation**"
      ]
    },
    {
      "cell_type": "code",
      "metadata": {
        "id": "K0gk8QNNctRD"
      },
      "source": [
        "## Loading Dataset\n",
        "dataset = pd.read_csv(\"//content/drive/MyDrive/M.Tech Project/Dataset and Codes/CIC IDS 2018/cic-ids-2018-preprocessed.csv\")\n",
        "dataset = dataset.drop(['Unnamed: 0', 'category'],axis=1)\n",
        "\n",
        "## Separating Dependent(Y) and InDependent Variable(X) ##\n",
        "X = dataset.iloc[:, :-1]\n",
        "Y = dataset.iloc[:,-1]\n",
        "\n",
        "## Train Test Split for X and Y ##\n",
        "X_train, X_test, Y_train, Y_test = train_test_split(X, Y, test_size=0.2, stratify=Y)\n",
        "\n",
        "## Normalizing the X_test\n",
        "scaler = Normalizer().fit(X_test)\n",
        "X_test = scaler.transform(X_test)\n",
        "np.set_printoptions(precision=3)\n",
        "\n",
        "## Converting the dataframes to arrays\n",
        "X_test = np.array(X_test)\n",
        "Y_test = np.array(Y_test)\n",
        "\n",
        "## Loading the AutoEncoder\n",
        "AutoEncoder = load_model('/content/drive/MyDrive/M.Tech Project/Dataset and Codes/Saved Models/AutoEncoder5LayerBinary.h5')\n",
        "AutoEncoder.evaluate(X_test, X_test)\n",
        "\n",
        "## Extracting the Encoder Module\n",
        "encoder = Sequential()\n",
        "encoder.add(AutoEncoder.layers[0])\n",
        "encoder.add(AutoEncoder.layers[1])\n",
        "encoder.add(AutoEncoder.layers[2])\n",
        "\n",
        "## Encoding the Test Data\n",
        "X_test = encoder.predict(X_test)\n",
        "print(X_test.shape, Y_test.shape)"
      ],
      "execution_count": null,
      "outputs": []
    },
    {
      "cell_type": "markdown",
      "metadata": {
        "id": "y_WVF7kBSULA"
      },
      "source": [
        "## **Model Evaluation**"
      ]
    },
    {
      "cell_type": "code",
      "metadata": {
        "id": "ufpZWuZodP23"
      },
      "source": [
        "## Loading the Binary Classification Model\n",
        "model = load_model('/content/drive/MyDrive/M.Tech Project/Dataset and Codes/Saved Models/AutoEncoder5LayeredDNN5layeredBinary.h5')\n",
        "\n",
        "## Generating Predictions\n",
        "Y_predicted = np.round(model.predict(X_test))\n",
        "Y_predicted = np.reshape(Y_predicted, Y_test.shape)"
      ],
      "execution_count": null,
      "outputs": []
    },
    {
      "cell_type": "code",
      "metadata": {
        "colab": {
          "base_uri": "https://localhost:8080/"
        },
        "id": "EuB7_r3BUQpZ",
        "outputId": "d5bf67ff-514a-4ac1-8c9a-d9267e251659"
      },
      "source": [
        "## Classification Report\n",
        "print(classification_report(Y_test, Y_predicted))"
      ],
      "execution_count": null,
      "outputs": [
        {
          "output_type": "stream",
          "text": [
            "              precision    recall  f1-score   support\n",
            "\n",
            "           0       0.89      0.99      0.94    208521\n",
            "           1       1.00      0.94      0.97    434149\n",
            "\n",
            "    accuracy                           0.96    642670\n",
            "   macro avg       0.94      0.97      0.95    642670\n",
            "weighted avg       0.96      0.96      0.96    642670\n",
            "\n"
          ],
          "name": "stdout"
        }
      ]
    },
    {
      "cell_type": "code",
      "metadata": {
        "colab": {
          "base_uri": "https://localhost:8080/"
        },
        "id": "A_aQqJDRUTHG",
        "outputId": "81bece93-7646-40e0-f31a-0cb49dc4d502"
      },
      "source": [
        "## Confusion Matrix\n",
        "print(confusion_matrix(Y_test, Y_predicted))"
      ],
      "execution_count": null,
      "outputs": [
        {
          "output_type": "stream",
          "text": [
            "[[207246   1275]\n",
            " [ 26301 407848]]\n"
          ],
          "name": "stdout"
        }
      ]
    },
    {
      "cell_type": "markdown",
      "metadata": {
        "id": "cNOaMPG0SJpu"
      },
      "source": [
        "# **Multiclass Classification Evaluation**"
      ]
    },
    {
      "cell_type": "markdown",
      "metadata": {
        "id": "srBzTO89SBzF"
      },
      "source": [
        "## **Multiclass Data Preparation**"
      ]
    },
    {
      "cell_type": "code",
      "metadata": {
        "id": "-64HHL8wSEt7"
      },
      "source": [
        "## Loading the dataset\n",
        "dataset = pd.read_csv(\"/content/drive/MyDrive/M.Tech Project/Dataset and Codes/CIC IDS 2018/cic-ids-2018-multiclass.csv\")\n",
        "dataset = dataset.drop(['Unnamed: 0', 'label'],axis=1)\n",
        "dataset.shape\n",
        "\n",
        "## Splitting the Dataset\n",
        "X = dataset.iloc[:, :-1]\n",
        "Y = dataset.iloc[:,-1]\n",
        "X_train, X_test, Y_train, Y_test = train_test_split(X, Y, test_size=0.2, stratify=Y)\n",
        "\n",
        "## Normalizing the X_test\n",
        "scaler = Normalizer().fit(X_test)\n",
        "X_test = scaler.transform(X_test)\n",
        "## Converting to Numpy Arrays\n",
        "Y_test = np.array(Y_test)\n",
        "\n",
        "## SMOTE for Test Samples\n",
        "from imblearn.over_sampling import SMOTE\n",
        "strategy = {1:2000, 2:2000, 11:2000}\n",
        "oversample = SMOTE(sampling_strategy = strategy)\n",
        "X_test, Y_test = oversample.fit_resample(X_test, Y_test)\n",
        "print(X_test.shape, Y_test.shape)\n",
        "\n",
        "## Converting Output Labels to Sparse Format\n",
        "Y_test = to_categorical(Y_test)\n",
        "\n",
        "## Loading the AutoEncoder for Compressing Test Data\n",
        "AutoEncoder = load_model('/content/drive/MyDrive/M.Tech Project/Dataset and Codes/Saved Models/AutoEncoder5LayerSMOTE.h5')\n",
        "AutoEncoder.evaluate(X_test, X_test)\n",
        "\n",
        "## Extracting the Encoder Module\n",
        "encoder = Sequential()\n",
        "encoder.add(AutoEncoder.layers[0])\n",
        "encoder.add(AutoEncoder.layers[1])\n",
        "encoder.add(AutoEncoder.layers[2])\n",
        "\n",
        "## Encoding the Testing Data\n",
        "X_test_encoded = encoder.predict(X_test)\n",
        "print(X_test_encoded.shape, Y_test.shape)"
      ],
      "execution_count": null,
      "outputs": []
    },
    {
      "cell_type": "markdown",
      "metadata": {
        "id": "aeT28DvXSZep"
      },
      "source": [
        "## **Multiclass Model Evaluation**"
      ]
    },
    {
      "cell_type": "code",
      "metadata": {
        "id": "UgUFtZv_d9Zx"
      },
      "source": [
        "## Loading the Multiclass Classifier\n",
        "model = load_model('/content/drive/MyDrive/M.Tech Project/Dataset and Codes/Saved Models/AutoEncoder5LayeredSMOTEDNN5layeredMulticlassSMOTEMORECLASS.h5')\n",
        "model.evaluate(X_test_encoded, Y_test)\n",
        "\n",
        "## Generating Predictions\n",
        "Y_predicted = np.round(model.predict(X_test_encoded))\n",
        "Y_predicted = np.reshape(Y_predicted, Y_test.shape)"
      ],
      "execution_count": null,
      "outputs": []
    },
    {
      "cell_type": "code",
      "metadata": {
        "colab": {
          "base_uri": "https://localhost:8080/"
        },
        "id": "CjPyBR-fVwl-",
        "outputId": "4d83847d-2a93-444a-e6a6-18131a345a48"
      },
      "source": [
        "## Generating Classification Report on the Predicted vs Actual Value\n",
        "print(classification_report(Y_test, Y_predicted))"
      ],
      "execution_count": null,
      "outputs": [
        {
          "output_type": "stream",
          "text": [
            "              precision    recall  f1-score   support\n",
            "\n",
            "           0       1.00      1.00      1.00     57238\n",
            "           1       0.77      0.81      0.79      2000\n",
            "           2       0.84      0.89      0.86      2000\n",
            "           3       1.00      1.00      1.00    137203\n",
            "           4       1.00      1.00      1.00       346\n",
            "           5       0.94      0.99      0.97      8302\n",
            "           6       1.00      1.00      1.00     92382\n",
            "           7       0.74      0.52      0.61     27978\n",
            "           8       0.91      0.99      0.95      2198\n",
            "           9       0.71      0.86      0.78     38671\n",
            "          10       1.00      0.97      0.98     32128\n",
            "          11       0.76      0.85      0.80      2000\n",
            "          12       1.00      1.00      1.00     37518\n",
            "\n",
            "   micro avg       0.95      0.95      0.95    439964\n",
            "   macro avg       0.90      0.91      0.90    439964\n",
            "weighted avg       0.95      0.95      0.95    439964\n",
            " samples avg       0.95      0.95      0.95    439964\n",
            "\n"
          ],
          "name": "stdout"
        },
        {
          "output_type": "stream",
          "text": [
            "/usr/local/lib/python3.7/dist-packages/sklearn/metrics/_classification.py:1272: UndefinedMetricWarning: Precision and F-score are ill-defined and being set to 0.0 in samples with no predicted labels. Use `zero_division` parameter to control this behavior.\n",
            "  _warn_prf(average, modifier, msg_start, len(result))\n"
          ],
          "name": "stderr"
        }
      ]
    },
    {
      "cell_type": "code",
      "metadata": {
        "colab": {
          "base_uri": "https://localhost:8080/"
        },
        "id": "8aHxaIuiVvio",
        "outputId": "046cae37-598d-4113-8897-6a8c3687d223"
      },
      "source": [
        "## Generating the Confusion Matrix\n",
        "cm = confusion_matrix(Y_test.argmax(axis=1), Y_predicted.argmax(axis=1))\n",
        "print(cm)"
      ],
      "execution_count": null,
      "outputs": [
        {
          "output_type": "stream",
          "text": [
            "[[ 57217      1      1      0      0      2      8      0      0      0\n",
            "       8      1      0]\n",
            " [    11   1627    182      0      0      0      0      0      0      0\n",
            "       3    177      0]\n",
            " [    16    140   1771      0      0      0      0      0      0      0\n",
            "       0     73      0]\n",
            " [     0      0      7 137195      0      0      0      0      0      0\n",
            "       0      1      0]\n",
            " [     0      0      0      0    345      0      0      0      0      0\n",
            "       0      0      1]\n",
            " [    18      1      0      0      0   8226      2      0     11      0\n",
            "       1     43      0]\n",
            " [    55      0      0      0      0     10  92018      0    154      0\n",
            "      59     86      0]\n",
            " [     0      0      0      0      0      0      0  14573      0  13405\n",
            "       0      0      0]\n",
            " [     2      0      0      0      0      2      0      0   2166      0\n",
            "       3     25      0]\n",
            " [     0      0      0      0      0      0      0   5223      0  33448\n",
            "       0      0      0]\n",
            " [    45    212    107      9      0    422     79     23     43     32\n",
            "   31025    129      2]\n",
            " [    79    131     31      0      0     64      0      0      0      0\n",
            "       0   1695      0]\n",
            " [     8      8      1      0      0      0      1      2      0      4\n",
            "       1      1  37492]]\n"
          ],
          "name": "stdout"
        }
      ]
    }
  ]
}